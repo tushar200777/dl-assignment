{
  "nbformat": 4,
  "nbformat_minor": 0,
  "metadata": {
    "colab": {
      "provenance": []
    },
    "kernelspec": {
      "name": "python3",
      "display_name": "Python 3"
    },
    "language_info": {
      "name": "python"
    }
  },
  "cells": [
    {
      "cell_type": "code",
      "execution_count": 4,
      "metadata": {
        "id": "x1GwwMqCoC1k"
      },
      "outputs": [],
      "source": [
        "import os\n",
        "os.environ[\"TF_CPP_MIN_LOG_LEVEL\"] = '2'\n",
        "\n",
        "import numpy as np\n",
        "import tensorflow as tf\n",
        "from tensorflow import keras\n",
        "from tensorflow.keras.datasets import mnist\n",
        "!pip install -q -U keras-tuner\n",
        "import keras_tuner as kt"
      ]
    },
    {
      "cell_type": "markdown",
      "source": [
        "<b> Loading MNIST DATASET </b>\n",
        "\n",
        "---\n",
        "\n",
        "\n",
        "<p> assumption - Using MNIST dataset for image classification </p>"
      ],
      "metadata": {
        "id": "7nIXwaikpICl"
      }
    },
    {
      "cell_type": "code",
      "source": [
        "(x_train, y_train) , (x_test,y_test) = mnist.load_data()"
      ],
      "metadata": {
        "id": "gNEzJ95YpGpq",
        "colab": {
          "base_uri": "https://localhost:8080/"
        },
        "outputId": "0c6e4eae-d112-479a-e28e-6719a9c7728c"
      },
      "execution_count": 5,
      "outputs": [
        {
          "output_type": "stream",
          "name": "stdout",
          "text": [
            "Downloading data from https://storage.googleapis.com/tensorflow/tf-keras-datasets/mnist.npz\n",
            "11490434/11490434 [==============================] - 0s 0us/step\n"
          ]
        }
      ]
    },
    {
      "cell_type": "markdown",
      "source": [
        "<b>Preprocessing</b>\n",
        "<p> Normalizing all pixel values </p>\n",
        "<p> converting all values such that they are between 0 and 1</p>"
      ],
      "metadata": {
        "id": "zesB0PwdqLeT"
      }
    },
    {
      "cell_type": "code",
      "source": [
        "x_train = x_train.astype('float32') / 255.0\n",
        "x_test = x_test.astype('float32') / 255.0"
      ],
      "metadata": {
        "id": "RsSeRMCFtH6H"
      },
      "execution_count": 6,
      "outputs": []
    },
    {
      "cell_type": "markdown",
      "source": [
        "<b> DEFINING MODEL - DENSE NEURAL NETWORK </b>\n",
        "\n",
        "---\n",
        "\n",
        "<p>  Building a model for hypertuning, the hyperparameter search space has also been defined here in addition to the model architecture.  </p>\n",
        "\n",
        "<p> A model builder function has been used to define the image classification model. The model builder function returns a compiled model and uses hyperparameters defined inline to hypertune the model.\n",
        " </p>"
      ],
      "metadata": {
        "id": "YyNtTuzrtVcj"
      }
    },
    {
      "cell_type": "code",
      "source": [
        "def model_builder(hp):\n",
        "  model = keras.Sequential()\n",
        "  model.add(keras.layers.Flatten(input_shape=(28, 28)))\n",
        "\n",
        "  # Tune the number of units in the first Dense layer\n",
        "  # Choose an optimal value between 60-600\n",
        "  hp_units = hp.Int('units', min_value=60, max_value=600, step=60)\n",
        "  model.add(keras.layers.Dense(units=hp_units, activation='relu'))\n",
        "  model.add(keras.layers.Dense(10))\n",
        "\n",
        "  # Tune the learning rate for the optimizer\n",
        "  # Choose an optimal value from 0.01, 0.001, or 0.0001\n",
        "  hp_learning_rate = hp.Choice('learning_rate', values=[1e-2, 1e-3, 1e-4])\n",
        "\n",
        "  model.compile(optimizer=keras.optimizers.Adam(learning_rate=hp_learning_rate),\n",
        "                loss=keras.losses.SparseCategoricalCrossentropy(from_logits=True),\n",
        "                metrics=['accuracy'])\n",
        "\n",
        "  return model"
      ],
      "metadata": {
        "id": "xKW454q_eKbT"
      },
      "execution_count": 7,
      "outputs": []
    },
    {
      "cell_type": "markdown",
      "source": [
        "<b>Instantiate the tuner and perform hypertuning </b>\n",
        "\n",
        "<p> Instantiate the tuner and perform hypertuning. Hyperband tuner has been used here. </p>"
      ],
      "metadata": {
        "id": "tgZOfPbRjFzP"
      }
    },
    {
      "cell_type": "code",
      "source": [
        "tuner = kt.Hyperband(model_builder,\n",
        "                     objective='val_accuracy',\n",
        "                     max_epochs=10,\n",
        "                     factor=3)"
      ],
      "metadata": {
        "id": "FDslKokUeXKm"
      },
      "execution_count": 9,
      "outputs": []
    },
    {
      "cell_type": "markdown",
      "source": [
        "<b>RUNNING THE HYPER-PARAMETER SEARCH </b>"
      ],
      "metadata": {
        "id": "o-b2rs-0jq6i"
      }
    },
    {
      "cell_type": "code",
      "source": [
        "tuner.search(x_train, y_train, epochs=50, validation_split=0.2)\n",
        "\n",
        "# Get the optimal hyperparameters\n",
        "best_hps=tuner.get_best_hyperparameters(num_trials=1)[0]\n",
        "\n",
        "print(f\"\"\"\n",
        "The hyperparameter search is complete. The optimal number of units in the first densely-connected\n",
        "layer is {best_hps.get('units')} and the optimal learning rate for the optimizer\n",
        "is {best_hps.get('learning_rate')}.\n",
        "\"\"\")"
      ],
      "metadata": {
        "colab": {
          "base_uri": "https://localhost:8080/"
        },
        "id": "T8QleJEIXrxu",
        "outputId": "922edcfd-65e0-45d6-ad8e-3064ffdc1770"
      },
      "execution_count": 11,
      "outputs": [
        {
          "output_type": "stream",
          "name": "stdout",
          "text": [
            "Trial 30 Complete [00h 01m 48s]\n",
            "val_accuracy: 0.9785833358764648\n",
            "\n",
            "Best val_accuracy So Far: 0.9803333282470703\n",
            "Total elapsed time: 00h 31m 30s\n",
            "\n",
            "The hyperparameter search is complete. The optimal number of units in the first densely-connected\n",
            "layer is 600 and the optimal learning rate for the optimizer\n",
            "is 0.001.\n",
            "\n"
          ]
        }
      ]
    },
    {
      "cell_type": "markdown",
      "source": [
        "<b>TRAIN THE MODEL </b>\n",
        "\n",
        "---\n",
        "<p> Here the model has been trained on the optimal values of learning rate and number of neurons as found by hyperparameter search by hyperband tuner.</p>"
      ],
      "metadata": {
        "id": "K0ueWC6Mj-MO"
      }
    },
    {
      "cell_type": "code",
      "source": [
        "hypermodel = tuner.hypermodel.build(best_hps)\n",
        "hypermodel.fit(x_train, y_train, epochs=50, validation_split=0.2)"
      ],
      "metadata": {
        "colab": {
          "base_uri": "https://localhost:8080/"
        },
        "id": "JRJY4kbwfPrK",
        "outputId": "899ba938-035d-4ba4-8eab-abb5e519f77e"
      },
      "execution_count": 12,
      "outputs": [
        {
          "output_type": "stream",
          "name": "stdout",
          "text": [
            "Epoch 1/50\n",
            "1500/1500 [==============================] - 16s 10ms/step - loss: 0.2160 - accuracy: 0.9362 - val_loss: 0.1128 - val_accuracy: 0.9653\n",
            "Epoch 2/50\n",
            "1500/1500 [==============================] - 15s 10ms/step - loss: 0.0859 - accuracy: 0.9729 - val_loss: 0.1025 - val_accuracy: 0.9705\n",
            "Epoch 3/50\n",
            "1500/1500 [==============================] - 15s 10ms/step - loss: 0.0550 - accuracy: 0.9827 - val_loss: 0.0842 - val_accuracy: 0.9751\n",
            "Epoch 4/50\n",
            "1500/1500 [==============================] - 15s 10ms/step - loss: 0.0373 - accuracy: 0.9882 - val_loss: 0.0776 - val_accuracy: 0.9773\n",
            "Epoch 5/50\n",
            "1500/1500 [==============================] - 16s 11ms/step - loss: 0.0277 - accuracy: 0.9906 - val_loss: 0.0902 - val_accuracy: 0.9751\n",
            "Epoch 6/50\n",
            "1500/1500 [==============================] - 18s 12ms/step - loss: 0.0230 - accuracy: 0.9927 - val_loss: 0.0835 - val_accuracy: 0.9772\n",
            "Epoch 7/50\n",
            "1500/1500 [==============================] - 14s 9ms/step - loss: 0.0153 - accuracy: 0.9950 - val_loss: 0.1015 - val_accuracy: 0.9762\n",
            "Epoch 8/50\n",
            "1500/1500 [==============================] - 15s 10ms/step - loss: 0.0151 - accuracy: 0.9955 - val_loss: 0.0961 - val_accuracy: 0.9778\n",
            "Epoch 9/50\n",
            "1500/1500 [==============================] - 15s 10ms/step - loss: 0.0135 - accuracy: 0.9956 - val_loss: 0.0964 - val_accuracy: 0.9771\n",
            "Epoch 10/50\n",
            "1500/1500 [==============================] - 16s 11ms/step - loss: 0.0112 - accuracy: 0.9965 - val_loss: 0.0911 - val_accuracy: 0.9793\n",
            "Epoch 11/50\n",
            "1500/1500 [==============================] - 15s 10ms/step - loss: 0.0100 - accuracy: 0.9965 - val_loss: 0.0959 - val_accuracy: 0.9800\n",
            "Epoch 12/50\n",
            "1500/1500 [==============================] - 15s 10ms/step - loss: 0.0078 - accuracy: 0.9976 - val_loss: 0.0982 - val_accuracy: 0.9799\n",
            "Epoch 13/50\n",
            "1500/1500 [==============================] - 15s 10ms/step - loss: 0.0103 - accuracy: 0.9967 - val_loss: 0.1184 - val_accuracy: 0.9790\n",
            "Epoch 14/50\n",
            "1500/1500 [==============================] - 14s 10ms/step - loss: 0.0073 - accuracy: 0.9977 - val_loss: 0.1113 - val_accuracy: 0.9804\n",
            "Epoch 15/50\n",
            "1500/1500 [==============================] - 14s 10ms/step - loss: 0.0084 - accuracy: 0.9973 - val_loss: 0.1113 - val_accuracy: 0.9804\n",
            "Epoch 16/50\n",
            "1500/1500 [==============================] - 16s 10ms/step - loss: 0.0069 - accuracy: 0.9979 - val_loss: 0.1080 - val_accuracy: 0.9808\n",
            "Epoch 17/50\n",
            "1500/1500 [==============================] - 14s 10ms/step - loss: 0.0065 - accuracy: 0.9979 - val_loss: 0.1337 - val_accuracy: 0.9768\n",
            "Epoch 18/50\n",
            "1500/1500 [==============================] - 15s 10ms/step - loss: 0.0073 - accuracy: 0.9979 - val_loss: 0.1446 - val_accuracy: 0.9778\n",
            "Epoch 19/50\n",
            "1500/1500 [==============================] - 14s 10ms/step - loss: 0.0043 - accuracy: 0.9987 - val_loss: 0.1407 - val_accuracy: 0.9773\n",
            "Epoch 20/50\n",
            "1500/1500 [==============================] - 14s 9ms/step - loss: 0.0058 - accuracy: 0.9982 - val_loss: 0.1364 - val_accuracy: 0.9782\n",
            "Epoch 21/50\n",
            "1500/1500 [==============================] - 14s 9ms/step - loss: 0.0068 - accuracy: 0.9979 - val_loss: 0.1477 - val_accuracy: 0.9771\n",
            "Epoch 22/50\n",
            "1500/1500 [==============================] - 14s 9ms/step - loss: 0.0072 - accuracy: 0.9977 - val_loss: 0.1333 - val_accuracy: 0.9802\n",
            "Epoch 23/50\n",
            "1500/1500 [==============================] - 17s 11ms/step - loss: 0.0055 - accuracy: 0.9983 - val_loss: 0.1406 - val_accuracy: 0.9797\n",
            "Epoch 24/50\n",
            "1500/1500 [==============================] - 14s 9ms/step - loss: 0.0071 - accuracy: 0.9981 - val_loss: 0.1455 - val_accuracy: 0.9790\n",
            "Epoch 25/50\n",
            "1500/1500 [==============================] - 14s 9ms/step - loss: 0.0063 - accuracy: 0.9981 - val_loss: 0.1585 - val_accuracy: 0.9787\n",
            "Epoch 26/50\n",
            "1500/1500 [==============================] - 14s 9ms/step - loss: 0.0029 - accuracy: 0.9990 - val_loss: 0.1417 - val_accuracy: 0.9787\n",
            "Epoch 27/50\n",
            "1500/1500 [==============================] - 14s 10ms/step - loss: 0.0050 - accuracy: 0.9986 - val_loss: 0.1611 - val_accuracy: 0.9789\n",
            "Epoch 28/50\n",
            "1500/1500 [==============================] - 14s 9ms/step - loss: 0.0060 - accuracy: 0.9984 - val_loss: 0.1642 - val_accuracy: 0.9779\n",
            "Epoch 29/50\n",
            "1500/1500 [==============================] - 14s 9ms/step - loss: 0.0065 - accuracy: 0.9979 - val_loss: 0.1813 - val_accuracy: 0.9745\n",
            "Epoch 30/50\n",
            "1500/1500 [==============================] - 14s 9ms/step - loss: 0.0033 - accuracy: 0.9990 - val_loss: 0.1658 - val_accuracy: 0.9803\n",
            "Epoch 31/50\n",
            "1500/1500 [==============================] - 15s 10ms/step - loss: 0.0064 - accuracy: 0.9983 - val_loss: 0.1698 - val_accuracy: 0.9793\n",
            "Epoch 32/50\n",
            "1500/1500 [==============================] - 14s 9ms/step - loss: 0.0066 - accuracy: 0.9979 - val_loss: 0.1658 - val_accuracy: 0.9806\n",
            "Epoch 33/50\n",
            "1500/1500 [==============================] - 14s 10ms/step - loss: 0.0035 - accuracy: 0.9990 - val_loss: 0.1563 - val_accuracy: 0.9812\n",
            "Epoch 34/50\n",
            "1500/1500 [==============================] - 14s 9ms/step - loss: 0.0046 - accuracy: 0.9985 - val_loss: 0.1884 - val_accuracy: 0.9784\n",
            "Epoch 35/50\n",
            "1500/1500 [==============================] - 14s 9ms/step - loss: 0.0048 - accuracy: 0.9985 - val_loss: 0.1721 - val_accuracy: 0.9794\n",
            "Epoch 36/50\n",
            "1500/1500 [==============================] - 15s 10ms/step - loss: 0.0041 - accuracy: 0.9990 - val_loss: 0.1667 - val_accuracy: 0.9808\n",
            "Epoch 37/50\n",
            "1500/1500 [==============================] - 14s 9ms/step - loss: 0.0047 - accuracy: 0.9986 - val_loss: 0.1803 - val_accuracy: 0.9797\n",
            "Epoch 38/50\n",
            "1500/1500 [==============================] - 15s 10ms/step - loss: 0.0058 - accuracy: 0.9983 - val_loss: 0.2289 - val_accuracy: 0.9775\n",
            "Epoch 39/50\n",
            "1500/1500 [==============================] - 14s 9ms/step - loss: 0.0033 - accuracy: 0.9990 - val_loss: 0.1820 - val_accuracy: 0.9818\n",
            "Epoch 40/50\n",
            "1500/1500 [==============================] - 14s 9ms/step - loss: 0.0050 - accuracy: 0.9989 - val_loss: 0.2477 - val_accuracy: 0.9723\n",
            "Epoch 41/50\n",
            "1500/1500 [==============================] - 14s 9ms/step - loss: 0.0055 - accuracy: 0.9984 - val_loss: 0.2024 - val_accuracy: 0.9789\n",
            "Epoch 42/50\n",
            "1500/1500 [==============================] - 14s 9ms/step - loss: 0.0045 - accuracy: 0.9989 - val_loss: 0.1843 - val_accuracy: 0.9814\n",
            "Epoch 43/50\n",
            "1500/1500 [==============================] - 14s 9ms/step - loss: 8.5214e-04 - accuracy: 0.9998 - val_loss: 0.1956 - val_accuracy: 0.9815\n",
            "Epoch 44/50\n",
            "1500/1500 [==============================] - 14s 9ms/step - loss: 0.0057 - accuracy: 0.9984 - val_loss: 0.2104 - val_accuracy: 0.9793\n",
            "Epoch 45/50\n",
            "1500/1500 [==============================] - 15s 10ms/step - loss: 0.0046 - accuracy: 0.9986 - val_loss: 0.2180 - val_accuracy: 0.9789\n",
            "Epoch 46/50\n",
            "1500/1500 [==============================] - 14s 9ms/step - loss: 0.0041 - accuracy: 0.9990 - val_loss: 0.2139 - val_accuracy: 0.9798\n",
            "Epoch 47/50\n",
            "1500/1500 [==============================] - 14s 9ms/step - loss: 0.0031 - accuracy: 0.9991 - val_loss: 0.2282 - val_accuracy: 0.9793\n",
            "Epoch 48/50\n",
            "1500/1500 [==============================] - 14s 9ms/step - loss: 0.0040 - accuracy: 0.9989 - val_loss: 0.2103 - val_accuracy: 0.9795\n",
            "Epoch 49/50\n",
            "1500/1500 [==============================] - 15s 10ms/step - loss: 0.0025 - accuracy: 0.9995 - val_loss: 0.2100 - val_accuracy: 0.9808\n",
            "Epoch 50/50\n",
            "1500/1500 [==============================] - 14s 10ms/step - loss: 0.0022 - accuracy: 0.9994 - val_loss: 0.2543 - val_accuracy: 0.9779\n"
          ]
        },
        {
          "output_type": "execute_result",
          "data": {
            "text/plain": [
              "<keras.src.callbacks.History at 0x7d88d655b2e0>"
            ]
          },
          "metadata": {},
          "execution_count": 12
        }
      ]
    },
    {
      "cell_type": "markdown",
      "source": [
        "<b>EVALUATING RESULTS</b>\n",
        "\n",
        "---\n",
        "<p> Evaluating the model on the test set. </p>"
      ],
      "metadata": {
        "id": "kYKAMqh0kZ8A"
      }
    },
    {
      "cell_type": "code",
      "source": [
        "eval_result = hypermodel.evaluate(x_test, y_test)\n",
        "print(\"[test loss, test accuracy]:\", eval_result)"
      ],
      "metadata": {
        "colab": {
          "base_uri": "https://localhost:8080/"
        },
        "id": "RNdDwxZ7iWeA",
        "outputId": "52ba4d22-6ea2-4214-b5a1-4be67685bcdb"
      },
      "execution_count": 14,
      "outputs": [
        {
          "output_type": "stream",
          "name": "stdout",
          "text": [
            "313/313 [==============================] - 2s 5ms/step - loss: 0.1913 - accuracy: 0.9788\n",
            "[test loss, test accuracy]: [0.19131536781787872, 0.9787999987602234]\n"
          ]
        }
      ]
    }
  ]
}